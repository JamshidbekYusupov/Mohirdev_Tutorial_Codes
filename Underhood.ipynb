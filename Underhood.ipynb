{
  "nbformat": 4,
  "nbformat_minor": 0,
  "metadata": {
    "colab": {
      "provenance": [],
      "gpuType": "T4",
      "authorship_tag": "ABX9TyMMEMMzrYPXxgFX72Op7Fu/",
      "include_colab_link": true
    },
    "kernelspec": {
      "name": "python3",
      "display_name": "Python 3"
    },
    "language_info": {
      "name": "python"
    },
    "accelerator": "GPU"
  },
  "cells": [
    {
      "cell_type": "markdown",
      "metadata": {
        "id": "view-in-github",
        "colab_type": "text"
      },
      "source": [
        "<a href=\"https://colab.research.google.com/github/JamshidbekYusupov/Mohirdev_Tutorial_Codes/blob/main/Underhood.ipynb\" target=\"_parent\"><img src=\"https://colab.research.google.com/assets/colab-badge.svg\" alt=\"Open In Colab\"/></a>"
      ]
    },
    {
      "cell_type": "code",
      "execution_count": 48,
      "metadata": {
        "id": "0uqcUewIVODs"
      },
      "outputs": [],
      "source": [
        "import fastai\n",
        "import torch"
      ]
    },
    {
      "cell_type": "code",
      "source": [
        "torch.cuda.is_available()"
      ],
      "metadata": {
        "colab": {
          "base_uri": "https://localhost:8080/"
        },
        "id": "_sZyKTv0VYDk",
        "outputId": "f11828a8-c144-40d3-e84b-0007fae5b2f9"
      },
      "execution_count": 49,
      "outputs": [
        {
          "output_type": "execute_result",
          "data": {
            "text/plain": [
              "True"
            ]
          },
          "metadata": {},
          "execution_count": 49
        }
      ]
    },
    {
      "cell_type": "code",
      "source": [
        "from fastai.vision.all import *\n"
      ],
      "metadata": {
        "id": "rxVd_GruVcH3"
      },
      "execution_count": 50,
      "outputs": []
    },
    {
      "cell_type": "code",
      "source": [
        "#path\n",
        "\n",
        "\n",
        "path = untar_data(URLs.MNIST_SAMPLE)\n",
        "path.ls()"
      ],
      "metadata": {
        "colab": {
          "base_uri": "https://localhost:8080/"
        },
        "id": "GfgqSYhkWRrN",
        "outputId": "d1edd2d4-18ce-4255-860e-7a42d762c5ab"
      },
      "execution_count": 51,
      "outputs": [
        {
          "output_type": "execute_result",
          "data": {
            "text/plain": [
              "(#3) [Path('/root/.fastai/data/mnist_sample/train'),Path('/root/.fastai/data/mnist_sample/valid'),Path('/root/.fastai/data/mnist_sample/labels.csv')]"
            ]
          },
          "metadata": {},
          "execution_count": 51
        }
      ]
    },
    {
      "cell_type": "code",
      "source": [
        "(path/'train').ls()"
      ],
      "metadata": {
        "colab": {
          "base_uri": "https://localhost:8080/"
        },
        "id": "DFv7iisbWbj4",
        "outputId": "4aa809f2-206d-46ea-8a33-5372e774c1b3"
      },
      "execution_count": 52,
      "outputs": [
        {
          "output_type": "execute_result",
          "data": {
            "text/plain": [
              "(#2) [Path('/root/.fastai/data/mnist_sample/train/7'),Path('/root/.fastai/data/mnist_sample/train/3')]"
            ]
          },
          "metadata": {},
          "execution_count": 52
        }
      ]
    },
    {
      "cell_type": "code",
      "source": [
        "(path/'train'/'3').ls()"
      ],
      "metadata": {
        "colab": {
          "base_uri": "https://localhost:8080/"
        },
        "id": "pn6bcTd0Wpb3",
        "outputId": "3cf16af5-a800-495f-aaf6-b4bdd75f7147"
      },
      "execution_count": 53,
      "outputs": [
        {
          "output_type": "execute_result",
          "data": {
            "text/plain": [
              "(#6131) [Path('/root/.fastai/data/mnist_sample/train/3/54782.png'),Path('/root/.fastai/data/mnist_sample/train/3/5337.png'),Path('/root/.fastai/data/mnist_sample/train/3/1341.png'),Path('/root/.fastai/data/mnist_sample/train/3/59598.png'),Path('/root/.fastai/data/mnist_sample/train/3/7660.png'),Path('/root/.fastai/data/mnist_sample/train/3/18727.png'),Path('/root/.fastai/data/mnist_sample/train/3/18992.png'),Path('/root/.fastai/data/mnist_sample/train/3/31044.png'),Path('/root/.fastai/data/mnist_sample/train/3/50206.png'),Path('/root/.fastai/data/mnist_sample/train/3/11010.png')...]"
            ]
          },
          "metadata": {},
          "execution_count": 53
        }
      ]
    },
    {
      "cell_type": "code",
      "source": [
        "(path/'valid'/'3').ls()"
      ],
      "metadata": {
        "colab": {
          "base_uri": "https://localhost:8080/"
        },
        "id": "FxNS7s6nXNPy",
        "outputId": "31cd2ab3-f41f-436f-e687-64c1bf9fbd9e"
      },
      "execution_count": 54,
      "outputs": [
        {
          "output_type": "execute_result",
          "data": {
            "text/plain": [
              "(#1010) [Path('/root/.fastai/data/mnist_sample/valid/3/7829.png'),Path('/root/.fastai/data/mnist_sample/valid/3/5329.png'),Path('/root/.fastai/data/mnist_sample/valid/3/4983.png'),Path('/root/.fastai/data/mnist_sample/valid/3/1856.png'),Path('/root/.fastai/data/mnist_sample/valid/3/7365.png'),Path('/root/.fastai/data/mnist_sample/valid/3/2312.png'),Path('/root/.fastai/data/mnist_sample/valid/3/2020.png'),Path('/root/.fastai/data/mnist_sample/valid/3/6811.png'),Path('/root/.fastai/data/mnist_sample/valid/3/4437.png'),Path('/root/.fastai/data/mnist_sample/valid/3/2069.png')...]"
            ]
          },
          "metadata": {},
          "execution_count": 54
        }
      ]
    },
    {
      "cell_type": "code",
      "source": [
        "(path/'valid'/'7').ls()"
      ],
      "metadata": {
        "colab": {
          "base_uri": "https://localhost:8080/"
        },
        "id": "9F76ZGzjXaS2",
        "outputId": "453de936-79c9-4c25-d580-3a069d1f3a9d"
      },
      "execution_count": 55,
      "outputs": [
        {
          "output_type": "execute_result",
          "data": {
            "text/plain": [
              "(#1028) [Path('/root/.fastai/data/mnist_sample/valid/7/2700.png'),Path('/root/.fastai/data/mnist_sample/valid/7/551.png'),Path('/root/.fastai/data/mnist_sample/valid/7/2808.png'),Path('/root/.fastai/data/mnist_sample/valid/7/2591.png'),Path('/root/.fastai/data/mnist_sample/valid/7/6619.png'),Path('/root/.fastai/data/mnist_sample/valid/7/2301.png'),Path('/root/.fastai/data/mnist_sample/valid/7/8421.png'),Path('/root/.fastai/data/mnist_sample/valid/7/7144.png'),Path('/root/.fastai/data/mnist_sample/valid/7/5657.png'),Path('/root/.fastai/data/mnist_sample/valid/7/6741.png')...]"
            ]
          },
          "metadata": {},
          "execution_count": 55
        }
      ]
    },
    {
      "cell_type": "code",
      "source": [
        "threes = (path/'train'/'3').ls().sorted()\n",
        "sevens = (path/'train'/'7').ls().sorted()\n"
      ],
      "metadata": {
        "id": "-DYpVJT0Xdc2"
      },
      "execution_count": 56,
      "outputs": []
    },
    {
      "cell_type": "code",
      "source": [
        "im_3 = threes[10]\n",
        "im_3"
      ],
      "metadata": {
        "colab": {
          "base_uri": "https://localhost:8080/"
        },
        "id": "7XV4v1qIXsLe",
        "outputId": "c7d7d211-5af2-4b9a-c468-3d0c314b3fd2"
      },
      "execution_count": 57,
      "outputs": [
        {
          "output_type": "execute_result",
          "data": {
            "text/plain": [
              "Path('/root/.fastai/data/mnist_sample/train/3/10093.png')"
            ]
          },
          "metadata": {},
          "execution_count": 57
        }
      ]
    },
    {
      "cell_type": "code",
      "source": [
        "img = Image.open(im_3)\n",
        "img"
      ],
      "metadata": {
        "colab": {
          "base_uri": "https://localhost:8080/",
          "height": 45
        },
        "id": "-KB3eRsOX3Ez",
        "outputId": "e8363148-3e42-4962-dacf-cae01c219bfc"
      },
      "execution_count": 58,
      "outputs": [
        {
          "output_type": "execute_result",
          "data": {
            "text/plain": [
              "<PIL.PngImagePlugin.PngImageFile image mode=L size=28x28>"
            ],
            "image/png": "[encoded data removed]",
            "image/jpeg": "[encoded data removed]"
          },
          "metadata": {},
          "execution_count": 58
        }
      ]
    },
    {
      "cell_type": "code",
      "source": [
        "im_7 = sevens[3]\n",
        "img7 = Image.open(im_7)"
      ],
      "metadata": {
        "id": "VdmkApjnX-bb"
      },
      "execution_count": 59,
      "outputs": []
    },
    {
      "cell_type": "code",
      "source": [
        "img7"
      ],
      "metadata": {
        "colab": {
          "base_uri": "https://localhost:8080/",
          "height": 45
        },
        "id": "T8KhiCf_Yjhh",
        "outputId": "6a88eab4-9e77-43b6-a80d-f7f9577bd51c"
      },
      "execution_count": 60,
      "outputs": [
        {
          "output_type": "execute_result",
          "data": {
            "text/plain": [
              "<PIL.PngImagePlugin.PngImageFile image mode=L size=28x28>"
            ],
            "image/png": "[encoded data removed]",
            "image/jpeg": "[encoded data removed]"
          },
          "metadata": {},
          "execution_count": 60
        }
      ]
    },
    {
      "cell_type": "code",
      "source": [
        "array(img7)[4:10, 4:10]"
      ],
      "metadata": {
        "colab": {
          "base_uri": "https://localhost:8080/"
        },
        "id": "nmdGzCjHYmp9",
        "outputId": "3667ea73-209e-495d-f1cd-1af234bf86d5"
      },
      "execution_count": 61,
      "outputs": [
        {
          "output_type": "execute_result",
          "data": {
            "text/plain": [
              "array([[  0,   0,   0,   0,   0,   0],\n",
              "       [  0,   0,   0,   0,   0,   0],\n",
              "       [  0,   0,   0,   0,   0,   0],\n",
              "       [  0,   0,   0,   0,   0,   0],\n",
              "       [  0,   0,   0,   0,   0,  19],\n",
              "       [  0,   0,   0,   0,  13, 144]], dtype=uint8)"
            ]
          },
          "metadata": {},
          "execution_count": 61
        }
      ]
    },
    {
      "cell_type": "code",
      "source": [
        "tensor(img7)[5:15, 5:15]"
      ],
      "metadata": {
        "colab": {
          "base_uri": "https://localhost:8080/"
        },
        "id": "Ib1LFtimZCbs",
        "outputId": "88e1700c-3813-4e55-8af9-59b0b0748d1e"
      },
      "execution_count": 62,
      "outputs": [
        {
          "output_type": "execute_result",
          "data": {
            "text/plain": [
              "tensor([[  0,   0,   0,   0,   0,   0,   0,   0,   0,   0],\n",
              "        [  0,   0,   0,   0,   0,   0,   0,  29, 104, 141],\n",
              "        [  0,   0,   0,   0,   0,   0, 101, 253, 252, 252],\n",
              "        [  0,   0,   0,   0,  19, 123, 246, 253, 252, 252],\n",
              "        [  0,   0,   0,  13, 144, 252, 252, 253, 227, 103],\n",
              "        [  0,   0,   0, 154, 253, 253, 253, 239,  75,   0],\n",
              "        [  0,   0,  76, 253, 252, 252, 227,  88,   0,   0],\n",
              "        [  0,   0, 113, 253, 252, 186,  43,   0,   0,   0],\n",
              "        [  0,   0,  13, 140, 115,   6,   0,   0,   0,   0],\n",
              "        [  0,   0,   0,   0,   0,   0,   0,   0,   0,   0]], dtype=torch.uint8)"
            ]
          },
          "metadata": {},
          "execution_count": 62
        }
      ]
    },
    {
      "cell_type": "code",
      "source": [
        "import pandas as pd"
      ],
      "metadata": {
        "id": "rSOFmq90Z-ip"
      },
      "execution_count": 63,
      "outputs": []
    },
    {
      "cell_type": "code",
      "source": [
        "im_3_ten = tensor(img)\n",
        "\n",
        "\n",
        "df = pd.DataFrame(im_3_ten[4:25, 4:25])\n",
        "\n",
        "df.style.set_properties(**{'font-size':'6pt'}).background_gradient('Greys')"
      ],
      "metadata": {
        "colab": {
          "base_uri": "https://localhost:8080/",
          "height": 708
        },
        "id": "G3EvlgM0b1O5",
        "outputId": "119f0894-e64a-4f63-c4b5-32783d9407d8"
      },
      "execution_count": 64,
      "outputs": [
        {
          "output_type": "execute_result",
          "data": {
            "text/plain": [
              "<pandas.io.formats.style.Styler at 0x7e9f1e68a9b0>"
            ],
            "text/html": [
              "<style type=\"text/css\">\n",
              "#T_785ba_row0_col0, #T_785ba_row0_col1, #T_785ba_row0_col2, #T_785ba_row0_col3, #T_785ba_row0_col4, #T_785ba_row0_col5, #T_785ba_row0_col6, #T_785ba_row0_col7, #T_785ba_row0_col8, #T_785ba_row0_col9, #T_785ba_row0_col10, #T_785ba_row0_col11, #T_785ba_row0_col12, #T_785ba_row0_col13, #T_785ba_row0_col14, #T_785ba_row0_col15, #T_785ba_row0_col16, #T_785ba_row0_col17, #T_785ba_row0_col18, #T_785ba_row0_col19, #T_785ba_row0_col20, #T_785ba_row1_col0, #T_785ba_row1_col1, #T_785ba_row1_col2, #T_785ba_row1_col3, #T_785ba_row1_col4, #T_785ba_row1_col5, #T_785ba_row1_col6, #T_785ba_row1_col7, #T_785ba_row1_col16, #T_785ba_row1_col17, #T_785ba_row1_col18, #T_785ba_row1_col19, #T_785ba_row1_col20, #T_785ba_row2_col0, #T_785ba_row2_col1, #T_785ba_row2_col2, #T_785ba_row2_col3, #T_785ba_row2_col4, #T_785ba_row2_col5, #T_785ba_row2_col16, #T_785ba_row2_col17, #T_785ba_row2_col18, #T_785ba_row2_col19, #T_785ba_row2_col20, #T_785ba_row3_col0, #T_785ba_row3_col1, #T_785ba_row3_col2, #T_785ba_row3_col3, #T_785ba_row3_col4, #T_785ba_row3_col5, #T_785ba_row3_col16, #T_785ba_row3_col17, #T_785ba_row3_col18, #T_785ba_row3_col19, #T_785ba_row3_col20, #T_785ba_row4_col0, #T_785ba_row4_col1, #T_785ba_row4_col2, #T_785ba_row4_col3, #T_785ba_row4_col4, #T_785ba_row4_col5, #T_785ba_row4_col11, #T_785ba_row4_col12, #T_785ba_row4_col16, #T_785ba_row4_col17, #T_785ba_row4_col18, #T_785ba_row4_col19, #T_785ba_row4_col20, #T_785ba_row5_col0, #T_785ba_row5_col1, #T_785ba_row5_col2, #T_785ba_row5_col3, #T_785ba_row5_col4, #T_785ba_row5_col5, #T_785ba_row5_col6, #T_785ba_row5_col7, #T_785ba_row5_col8, #T_785ba_row5_col9, #T_785ba_row5_col10, #T_785ba_row5_col11, #T_785ba_row5_col16, #T_785ba_row5_col17, #T_785ba_row5_col18, #T_785ba_row5_col19, #T_785ba_row5_col20, #T_785ba_row6_col0, #T_785ba_row6_col1, #T_785ba_row6_col2, #T_785ba_row6_col3, #T_785ba_row6_col4, #T_785ba_row6_col5, #T_785ba_row6_col6, #T_785ba_row6_col7, #T_785ba_row6_col8, #T_785ba_row6_col9, #T_785ba_row6_col10, #T_785ba_row6_col11, #T_785ba_row6_col16, #T_785ba_row6_col17, #T_785ba_row6_col18, #T_785ba_row6_col19, #T_785ba_row6_col20, #T_785ba_row7_col0, #T_785ba_row7_col1, #T_785ba_row7_col2, #T_785ba_row7_col3, #T_785ba_row7_col4, #T_785ba_row7_col5, #T_785ba_row7_col6, #T_785ba_row7_col7, #T_785ba_row7_col15, #T_785ba_row7_col16, #T_785ba_row7_col17, #T_785ba_row7_col18, #T_785ba_row7_col19, #T_785ba_row7_col20, #T_785ba_row8_col0, #T_785ba_row8_col1, #T_785ba_row8_col2, #T_785ba_row8_col3, #T_785ba_row8_col4, #T_785ba_row8_col5, #T_785ba_row8_col15, #T_785ba_row8_col16, #T_785ba_row8_col17, #T_785ba_row8_col18, #T_785ba_row8_col19, #T_785ba_row8_col20, #T_785ba_row9_col0, #T_785ba_row9_col1, #T_785ba_row9_col2, #T_785ba_row9_col3, #T_785ba_row9_col4, #T_785ba_row9_col16, #T_785ba_row9_col17, #T_785ba_row9_col18, #T_785ba_row9_col19, #T_785ba_row9_col20, #T_785ba_row10_col0, #T_785ba_row10_col1, #T_785ba_row10_col2, #T_785ba_row10_col3, #T_785ba_row10_col4, #T_785ba_row10_col16, #T_785ba_row10_col17, #T_785ba_row10_col18, #T_785ba_row10_col19, #T_785ba_row10_col20, #T_785ba_row11_col0, #T_785ba_row11_col1, #T_785ba_row11_col2, #T_785ba_row11_col3, #T_785ba_row11_col4, #T_785ba_row11_col10, #T_785ba_row11_col11, #T_785ba_row11_col12, #T_785ba_row11_col16, #T_785ba_row11_col17, #T_785ba_row11_col18, #T_785ba_row11_col19, #T_785ba_row11_col20, #T_785ba_row12_col0, #T_785ba_row12_col1, #T_785ba_row12_col2, #T_785ba_row12_col3, #T_785ba_row12_col4, #T_785ba_row12_col8, #T_785ba_row12_col9, #T_785ba_row12_col10, #T_785ba_row12_col11, #T_785ba_row12_col12, #T_785ba_row12_col16, #T_785ba_row12_col17, #T_785ba_row12_col18, #T_785ba_row12_col19, #T_785ba_row12_col20, #T_785ba_row13_col0, #T_785ba_row13_col1, #T_785ba_row13_col2, #T_785ba_row13_col3, #T_785ba_row13_col4, #T_785ba_row13_col5, #T_785ba_row13_col6, #T_785ba_row13_col7, #T_785ba_row13_col8, #T_785ba_row13_col9, #T_785ba_row13_col10, #T_785ba_row13_col11, #T_785ba_row13_col12, #T_785ba_row13_col16, #T_785ba_row13_col17, #T_785ba_row13_col18, #T_785ba_row13_col19, #T_785ba_row13_col20, #T_785ba_row14_col0, #T_785ba_row14_col1, #T_785ba_row14_col2, #T_785ba_row14_col3, #T_785ba_row14_col4, #T_785ba_row14_col5, #T_785ba_row14_col6, #T_785ba_row14_col7, #T_785ba_row14_col8, #T_785ba_row14_col9, #T_785ba_row14_col10, #T_785ba_row14_col11, #T_785ba_row14_col16, #T_785ba_row14_col17, #T_785ba_row14_col18, #T_785ba_row14_col19, #T_785ba_row14_col20, #T_785ba_row15_col0, #T_785ba_row15_col1, #T_785ba_row15_col6, #T_785ba_row15_col7, #T_785ba_row15_col8, #T_785ba_row15_col9, #T_785ba_row15_col10, #T_785ba_row15_col11, #T_785ba_row15_col16, #T_785ba_row15_col17, #T_785ba_row15_col18, #T_785ba_row15_col19, #T_785ba_row15_col20, #T_785ba_row16_col0, #T_785ba_row16_col1, #T_785ba_row16_col6, #T_785ba_row16_col7, #T_785ba_row16_col8, #T_785ba_row16_col9, #T_785ba_row16_col10, #T_785ba_row16_col11, #T_785ba_row16_col15, #T_785ba_row16_col16, #T_785ba_row16_col17, #T_785ba_row16_col18, #T_785ba_row16_col19, #T_785ba_row16_col20, #T_785ba_row17_col0, #T_785ba_row17_col1, #T_785ba_row17_col5, #T_785ba_row17_col6, #T_785ba_row17_col7, #T_785ba_row17_col8, #T_785ba_row17_col9, #T_785ba_row17_col15, #T_785ba_row17_col16, #T_785ba_row17_col17, #T_785ba_row17_col18, #T_785ba_row17_col19, #T_785ba_row17_col20, #T_785ba_row18_col0, #T_785ba_row18_col1, #T_785ba_row18_col8, #T_785ba_row18_col14, #T_785ba_row18_col15, #T_785ba_row18_col16, #T_785ba_row18_col17, #T_785ba_row18_col18, #T_785ba_row18_col19, #T_785ba_row18_col20, #T_785ba_row19_col0, #T_785ba_row19_col1, #T_785ba_row19_col13, #T_785ba_row19_col14, #T_785ba_row19_col15, #T_785ba_row19_col16, #T_785ba_row19_col17, #T_785ba_row19_col18, #T_785ba_row19_col19, #T_785ba_row19_col20, #T_785ba_row20_col0, #T_785ba_row20_col1, #T_785ba_row20_col2, #T_785ba_row20_col13, #T_785ba_row20_col14, #T_785ba_row20_col15, #T_785ba_row20_col16, #T_785ba_row20_col17, #T_785ba_row20_col18, #T_785ba_row20_col19, #T_785ba_row20_col20 {\n",
              "  font-size: 6pt;\n",
              "  background-color: #ffffff;\n",
              "  color: #000000;\n",
              "}\n",
              "#T_785ba_row1_col8 {\n",
              "  font-size: 6pt;\n",
              "  background-color: #f1f1f1;\n",
              "  color: #000000;\n",
              "}\n",
              "#T_785ba_row1_col9, #T_785ba_row20_col11 {\n",
              "  font-size: 6pt;\n",
              "  background-color: #848484;\n",
              "  color: #f1f1f1;\n",
              "}\n",
              "#T_785ba_row1_col10, #T_785ba_row11_col8 {\n",
              "  font-size: 6pt;\n",
              "  background-color: #636363;\n",
              "  color: #f1f1f1;\n",
              "}\n",
              "#T_785ba_row1_col11, #T_785ba_row1_col12, #T_785ba_row1_col13, #T_785ba_row2_col10, #T_785ba_row2_col15, #T_785ba_row3_col7, #T_785ba_row3_col8, #T_785ba_row3_col15, #T_785ba_row4_col15, #T_785ba_row8_col10, #T_785ba_row9_col7, #T_785ba_row9_col8, #T_785ba_row9_col9, #T_785ba_row9_col10, #T_785ba_row10_col7, #T_785ba_row10_col8, #T_785ba_row11_col6, #T_785ba_row11_col14, #T_785ba_row16_col3, #T_785ba_row17_col2, #T_785ba_row17_col3, #T_785ba_row18_col3, #T_785ba_row19_col4, #T_785ba_row19_col5, #T_785ba_row19_col10, #T_785ba_row20_col8 {\n",
              "  font-size: 6pt;\n",
              "  background-color: #000000;\n",
              "  color: #f1f1f1;\n",
              "}\n",
              "#T_785ba_row1_col14 {\n",
              "  font-size: 6pt;\n",
              "  background-color: #2e2e2e;\n",
              "  color: #f1f1f1;\n",
              "}\n",
              "#T_785ba_row1_col15, #T_785ba_row4_col6, #T_785ba_row15_col12 {\n",
              "  font-size: 6pt;\n",
              "  background-color: #bebebe;\n",
              "  color: #000000;\n",
              "}\n",
              "#T_785ba_row2_col6 {\n",
              "  font-size: 6pt;\n",
              "  background-color: #f9f9f9;\n",
              "  color: #000000;\n",
              "}\n",
              "#T_785ba_row2_col7 {\n",
              "  font-size: 6pt;\n",
              "  background-color: #7e7e7e;\n",
              "  color: #f1f1f1;\n",
              "}\n",
              "#T_785ba_row2_col8 {\n",
              "  font-size: 6pt;\n",
              "  background-color: #0a0a0a;\n",
              "  color: #f1f1f1;\n",
              "}\n",
              "#T_785ba_row2_col9, #T_785ba_row2_col11, #T_785ba_row2_col14, #T_785ba_row3_col9, #T_785ba_row3_col14, #T_785ba_row4_col14, #T_785ba_row5_col14, #T_785ba_row6_col13, #T_785ba_row7_col12, #T_785ba_row7_col13, #T_785ba_row8_col9, #T_785ba_row8_col11, #T_785ba_row8_col12, #T_785ba_row8_col13, #T_785ba_row9_col13, #T_785ba_row10_col6, #T_785ba_row10_col9, #T_785ba_row10_col14, #T_785ba_row12_col14, #T_785ba_row13_col14, #T_785ba_row14_col14, #T_785ba_row15_col13, #T_785ba_row16_col13, #T_785ba_row17_col12, #T_785ba_row18_col11, #T_785ba_row19_col6, #T_785ba_row19_col11, #T_785ba_row20_col9 {\n",
              "  font-size: 6pt;\n",
              "  background-color: #010101;\n",
              "  color: #f1f1f1;\n",
              "}\n",
              "#T_785ba_row2_col12, #T_785ba_row19_col8 {\n",
              "  font-size: 6pt;\n",
              "  background-color: #535353;\n",
              "  color: #f1f1f1;\n",
              "}\n",
              "#T_785ba_row2_col13 {\n",
              "  font-size: 6pt;\n",
              "  background-color: #1c1c1c;\n",
              "  color: #f1f1f1;\n",
              "}\n",
              "#T_785ba_row3_col6 {\n",
              "  font-size: 6pt;\n",
              "  background-color: #8c8c8c;\n",
              "  color: #f1f1f1;\n",
              "}\n",
              "#T_785ba_row3_col10, #T_785ba_row19_col3 {\n",
              "  font-size: 6pt;\n",
              "  background-color: #1e1e1e;\n",
              "  color: #f1f1f1;\n",
              "}\n",
              "#T_785ba_row3_col11, #T_785ba_row17_col14 {\n",
              "  font-size: 6pt;\n",
              "  background-color: #dadada;\n",
              "  color: #000000;\n",
              "}\n",
              "#T_785ba_row3_col12, #T_785ba_row10_col12, #T_785ba_row17_col10 {\n",
              "  font-size: 6pt;\n",
              "  background-color: #fefefe;\n",
              "  color: #000000;\n",
              "}\n",
              "#T_785ba_row3_col13, #T_785ba_row7_col9 {\n",
              "  font-size: 6pt;\n",
              "  background-color: #cfcfcf;\n",
              "  color: #000000;\n",
              "}\n",
              "#T_785ba_row4_col7, #T_785ba_row4_col8 {\n",
              "  font-size: 6pt;\n",
              "  background-color: #1a1a1a;\n",
              "  color: #f1f1f1;\n",
              "}\n",
              "#T_785ba_row4_col9 {\n",
              "  font-size: 6pt;\n",
              "  background-color: #696969;\n",
              "  color: #f1f1f1;\n",
              "}\n",
              "#T_785ba_row4_col10 {\n",
              "  font-size: 6pt;\n",
              "  background-color: #e9e9e9;\n",
              "  color: #000000;\n",
              "}\n",
              "#T_785ba_row4_col13 {\n",
              "  font-size: 6pt;\n",
              "  background-color: #a7a7a7;\n",
              "  color: #f1f1f1;\n",
              "}\n",
              "#T_785ba_row5_col12, #T_785ba_row7_col8, #T_785ba_row15_col2, #T_785ba_row15_col5 {\n",
              "  font-size: 6pt;\n",
              "  background-color: #fdfdfd;\n",
              "  color: #000000;\n",
              "}\n",
              "#T_785ba_row5_col13 {\n",
              "  font-size: 6pt;\n",
              "  background-color: #575757;\n",
              "  color: #f1f1f1;\n",
              "}\n",
              "#T_785ba_row5_col15 {\n",
              "  font-size: 6pt;\n",
              "  background-color: #1d1d1d;\n",
              "  color: #f1f1f1;\n",
              "}\n",
              "#T_785ba_row6_col12 {\n",
              "  font-size: 6pt;\n",
              "  background-color: #4a4a4a;\n",
              "  color: #f1f1f1;\n",
              "}\n",
              "#T_785ba_row6_col14 {\n",
              "  font-size: 6pt;\n",
              "  background-color: #252525;\n",
              "  color: #f1f1f1;\n",
              "}\n",
              "#T_785ba_row6_col15 {\n",
              "  font-size: 6pt;\n",
              "  background-color: #c2c2c2;\n",
              "  color: #000000;\n",
              "}\n",
              "#T_785ba_row7_col10 {\n",
              "  font-size: 6pt;\n",
              "  background-color: #9c9c9c;\n",
              "  color: #f1f1f1;\n",
              "}\n",
              "#T_785ba_row7_col11 {\n",
              "  font-size: 6pt;\n",
              "  background-color: #323232;\n",
              "  color: #f1f1f1;\n",
              "}\n",
              "#T_785ba_row7_col14 {\n",
              "  font-size: 6pt;\n",
              "  background-color: #a9a9a9;\n",
              "  color: #f1f1f1;\n",
              "}\n",
              "#T_785ba_row8_col6 {\n",
              "  font-size: 6pt;\n",
              "  background-color: #fbfbfb;\n",
              "  color: #000000;\n",
              "}\n",
              "#T_785ba_row8_col7 {\n",
              "  font-size: 6pt;\n",
              "  background-color: #959595;\n",
              "  color: #f1f1f1;\n",
              "}\n",
              "#T_785ba_row8_col8 {\n",
              "  font-size: 6pt;\n",
              "  background-color: #464646;\n",
              "  color: #f1f1f1;\n",
              "}\n",
              "#T_785ba_row8_col14, #T_785ba_row10_col15 {\n",
              "  font-size: 6pt;\n",
              "  background-color: #d0d0d0;\n",
              "  color: #000000;\n",
              "}\n",
              "#T_785ba_row9_col5, #T_785ba_row12_col5 {\n",
              "  font-size: 6pt;\n",
              "  background-color: #ececec;\n",
              "  color: #000000;\n",
              "}\n",
              "#T_785ba_row9_col6 {\n",
              "  font-size: 6pt;\n",
              "  background-color: #767676;\n",
              "  color: #f1f1f1;\n",
              "}\n",
              "#T_785ba_row9_col11, #T_785ba_row16_col4 {\n",
              "  font-size: 6pt;\n",
              "  background-color: #242424;\n",
              "  color: #f1f1f1;\n",
              "}\n",
              "#T_785ba_row9_col12 {\n",
              "  font-size: 6pt;\n",
              "  background-color: #5a5a5a;\n",
              "  color: #f1f1f1;\n",
              "}\n",
              "#T_785ba_row9_col14 {\n",
              "  font-size: 6pt;\n",
              "  background-color: #505050;\n",
              "  color: #f1f1f1;\n",
              "}\n",
              "#T_785ba_row9_col15 {\n",
              "  font-size: 6pt;\n",
              "  background-color: #fcfcfc;\n",
              "  color: #000000;\n",
              "}\n",
              "#T_785ba_row10_col5 {\n",
              "  font-size: 6pt;\n",
              "  background-color: #666666;\n",
              "  color: #f1f1f1;\n",
              "}\n",
              "#T_785ba_row10_col10 {\n",
              "  font-size: 6pt;\n",
              "  background-color: #7f7f7f;\n",
              "  color: #f1f1f1;\n",
              "}\n",
              "#T_785ba_row10_col11, #T_785ba_row12_col7, #T_785ba_row20_col12 {\n",
              "  font-size: 6pt;\n",
              "  background-color: #f6f6f6;\n",
              "  color: #000000;\n",
              "}\n",
              "#T_785ba_row10_col13, #T_785ba_row20_col7 {\n",
              "  font-size: 6pt;\n",
              "  background-color: #606060;\n",
              "  color: #f1f1f1;\n",
              "}\n",
              "#T_785ba_row11_col5, #T_785ba_row16_col12, #T_785ba_row18_col4 {\n",
              "  font-size: 6pt;\n",
              "  background-color: #282828;\n",
              "  color: #f1f1f1;\n",
              "}\n",
              "#T_785ba_row11_col7 {\n",
              "  font-size: 6pt;\n",
              "  background-color: #1b1b1b;\n",
              "  color: #f1f1f1;\n",
              "}\n",
              "#T_785ba_row11_col9, #T_785ba_row19_col2 {\n",
              "  font-size: 6pt;\n",
              "  background-color: #e4e4e4;\n",
              "  color: #000000;\n",
              "}\n",
              "#T_785ba_row11_col13 {\n",
              "  font-size: 6pt;\n",
              "  background-color: #6a6a6a;\n",
              "  color: #f1f1f1;\n",
              "}\n",
              "#T_785ba_row11_col15 {\n",
              "  font-size: 6pt;\n",
              "  background-color: #898989;\n",
              "  color: #f1f1f1;\n",
              "}\n",
              "#T_785ba_row12_col6 {\n",
              "  font-size: 6pt;\n",
              "  background-color: #cdcdcd;\n",
              "  color: #000000;\n",
              "}\n",
              "#T_785ba_row12_col13, #T_785ba_row13_col13 {\n",
              "  font-size: 6pt;\n",
              "  background-color: #6b6b6b;\n",
              "  color: #f1f1f1;\n",
              "}\n",
              "#T_785ba_row12_col15, #T_785ba_row13_col15 {\n",
              "  font-size: 6pt;\n",
              "  background-color: #8a8a8a;\n",
              "  color: #f1f1f1;\n",
              "}\n",
              "#T_785ba_row14_col12, #T_785ba_row20_col3 {\n",
              "  font-size: 6pt;\n",
              "  background-color: #f5f5f5;\n",
              "  color: #000000;\n",
              "}\n",
              "#T_785ba_row14_col13, #T_785ba_row18_col12 {\n",
              "  font-size: 6pt;\n",
              "  background-color: #050505;\n",
              "  color: #f1f1f1;\n",
              "}\n",
              "#T_785ba_row14_col15 {\n",
              "  font-size: 6pt;\n",
              "  background-color: #939393;\n",
              "  color: #f1f1f1;\n",
              "}\n",
              "#T_785ba_row15_col3, #T_785ba_row15_col4 {\n",
              "  font-size: 6pt;\n",
              "  background-color: #dfdfdf;\n",
              "  color: #000000;\n",
              "}\n",
              "#T_785ba_row15_col14, #T_785ba_row19_col7 {\n",
              "  font-size: 6pt;\n",
              "  background-color: #171717;\n",
              "  color: #f1f1f1;\n",
              "}\n",
              "#T_785ba_row15_col15 {\n",
              "  font-size: 6pt;\n",
              "  background-color: #f7f7f7;\n",
              "  color: #000000;\n",
              "}\n",
              "#T_785ba_row16_col2 {\n",
              "  font-size: 6pt;\n",
              "  background-color: #d7d7d7;\n",
              "  color: #000000;\n",
              "}\n",
              "#T_785ba_row16_col5 {\n",
              "  font-size: 6pt;\n",
              "  background-color: #f8f8f8;\n",
              "  color: #000000;\n",
              "}\n",
              "#T_785ba_row16_col14 {\n",
              "  font-size: 6pt;\n",
              "  background-color: #6c6c6c;\n",
              "  color: #f1f1f1;\n",
              "}\n",
              "#T_785ba_row17_col4 {\n",
              "  font-size: 6pt;\n",
              "  background-color: #a2a2a2;\n",
              "  color: #f1f1f1;\n",
              "}\n",
              "#T_785ba_row17_col11 {\n",
              "  font-size: 6pt;\n",
              "  background-color: #b9b9b9;\n",
              "  color: #000000;\n",
              "}\n",
              "#T_785ba_row17_col13 {\n",
              "  font-size: 6pt;\n",
              "  background-color: #030303;\n",
              "  color: #f1f1f1;\n",
              "}\n",
              "#T_785ba_row18_col2 {\n",
              "  font-size: 6pt;\n",
              "  background-color: #0c0c0c;\n",
              "  color: #f1f1f1;\n",
              "}\n",
              "#T_785ba_row18_col5 {\n",
              "  font-size: 6pt;\n",
              "  background-color: #b4b4b4;\n",
              "  color: #000000;\n",
              "}\n",
              "#T_785ba_row18_col6 {\n",
              "  font-size: 6pt;\n",
              "  background-color: #e7e7e7;\n",
              "  color: #000000;\n",
              "}\n",
              "#T_785ba_row18_col7 {\n",
              "  font-size: 6pt;\n",
              "  background-color: #f0f0f0;\n",
              "  color: #000000;\n",
              "}\n",
              "#T_785ba_row18_col9 {\n",
              "  font-size: 6pt;\n",
              "  background-color: #f3f3f3;\n",
              "  color: #000000;\n",
              "}\n",
              "#T_785ba_row18_col10 {\n",
              "  font-size: 6pt;\n",
              "  background-color: #b6b6b6;\n",
              "  color: #000000;\n",
              "}\n",
              "#T_785ba_row18_col13 {\n",
              "  font-size: 6pt;\n",
              "  background-color: #a4a4a4;\n",
              "  color: #f1f1f1;\n",
              "}\n",
              "#T_785ba_row19_col9, #T_785ba_row20_col10 {\n",
              "  font-size: 6pt;\n",
              "  background-color: #222222;\n",
              "  color: #f1f1f1;\n",
              "}\n",
              "#T_785ba_row19_col12 {\n",
              "  font-size: 6pt;\n",
              "  background-color: #484848;\n",
              "  color: #f1f1f1;\n",
              "}\n",
              "#T_785ba_row20_col4 {\n",
              "  font-size: 6pt;\n",
              "  background-color: #efefef;\n",
              "  color: #000000;\n",
              "}\n",
              "#T_785ba_row20_col5 {\n",
              "  font-size: 6pt;\n",
              "  background-color: #8f8f8f;\n",
              "  color: #f1f1f1;\n",
              "}\n",
              "#T_785ba_row20_col6 {\n",
              "  font-size: 6pt;\n",
              "  background-color: #515151;\n",
              "  color: #f1f1f1;\n",
              "}\n",
              "</style>\n",
              "<table id=\"T_785ba\" class=\"dataframe\">\n",
              "  <thead>\n",
              "    <tr>\n",
              "      <th class=\"blank level0\" >&nbsp;</th>\n",
              "      <th id=\"T_785ba_level0_col0\" class=\"col_heading level0 col0\" >0</th>\n",
              "      <th id=\"T_785ba_level0_col1\" class=\"col_heading level0 col1\" >1</th>\n",
              "      <th id=\"T_785ba_level0_col2\" class=\"col_heading level0 col2\" >2</th>\n",
              "      <th id=\"T_785ba_level0_col3\" class=\"col_heading level0 col3\" >3</th>\n",
              "      <th id=\"T_785ba_level0_col4\" class=\"col_heading level0 col4\" >4</th>\n",
              "      <th id=\"T_785ba_level0_col5\" class=\"col_heading level0 col5\" >5</th>\n",
              "      <th id=\"T_785ba_level0_col6\" class=\"col_heading level0 col6\" >6</th>\n",
              "      <th id=\"T_785ba_level0_col7\" class=\"col_heading level0 col7\" >7</th>\n",
              "      <th id=\"T_785ba_level0_col8\" class=\"col_heading level0 col8\" >8</th>\n",
              "      <th id=\"T_785ba_level0_col9\" class=\"col_heading level0 col9\" >9</th>\n",
              "      <th id=\"T_785ba_level0_col10\" class=\"col_heading level0 col10\" >10</th>\n",
              "      <th id=\"T_785ba_level0_col11\" class=\"col_heading level0 col11\" >11</th>\n",
              "      <th id=\"T_785ba_level0_col12\" class=\"col_heading level0 col12\" >12</th>\n",
              "      <th id=\"T_785ba_level0_col13\" class=\"col_heading level0 col13\" >13</th>\n",
              "      <th id=\"T_785ba_level0_col14\" class=\"col_heading level0 col14\" >14</th>\n",
              "      <th id=\"T_785ba_level0_col15\" class=\"col_heading level0 col15\" >15</th>\n",
              "      <th id=\"T_785ba_level0_col16\" class=\"col_heading level0 col16\" >16</th>\n",
              "      <th id=\"T_785ba_level0_col17\" class=\"col_heading level0 col17\" >17</th>\n",
              "      <th id=\"T_785ba_level0_col18\" class=\"col_heading level0 col18\" >18</th>\n",
              "      <th id=\"T_785ba_level0_col19\" class=\"col_heading level0 col19\" >19</th>\n",
              "      <th id=\"T_785ba_level0_col20\" class=\"col_heading level0 col20\" >20</th>\n",
              "    </tr>\n",
              "  </thead>\n",
              "  <tbody>\n",
              "    <tr>\n",
              "      <th id=\"T_785ba_level0_row0\" class=\"row_heading level0 row0\" >0</th>\n",
              "      <td id=\"T_785ba_row0_col0\" class=\"data row0 col0\" >0</td>\n",
              "      <td id=\"T_785ba_row0_col1\" class=\"data row0 col1\" >0</td>\n",
              "      <td id=\"T_785ba_row0_col2\" class=\"data row0 col2\" >0</td>\n",
              "      <td id=\"T_785ba_row0_col3\" class=\"data row0 col3\" >0</td>\n",
              "      <td id=\"T_785ba_row0_col4\" class=\"data row0 col4\" >0</td>\n",
              "      <td id=\"T_785ba_row0_col5\" class=\"data row0 col5\" >0</td>\n",
              "      <td id=\"T_785ba_row0_col6\" class=\"data row0 col6\" >0</td>\n",
              "      <td id=\"T_785ba_row0_col7\" class=\"data row0 col7\" >0</td>\n",
              "      <td id=\"T_785ba_row0_col8\" class=\"data row0 col8\" >0</td>\n",
              "      <td id=\"T_785ba_row0_col9\" class=\"data row0 col9\" >0</td>\n",
              "      <td id=\"T_785ba_row0_col10\" class=\"data row0 col10\" >0</td>\n",
              "      <td id=\"T_785ba_row0_col11\" class=\"data row0 col11\" >0</td>\n",
              "      <td id=\"T_785ba_row0_col12\" class=\"data row0 col12\" >0</td>\n",
              "      <td id=\"T_785ba_row0_col13\" class=\"data row0 col13\" >0</td>\n",
              "      <td id=\"T_785ba_row0_col14\" class=\"data row0 col14\" >0</td>\n",
              "      <td id=\"T_785ba_row0_col15\" class=\"data row0 col15\" >0</td>\n",
              "      <td id=\"T_785ba_row0_col16\" class=\"data row0 col16\" >0</td>\n",
              "      <td id=\"T_785ba_row0_col17\" class=\"data row0 col17\" >0</td>\n",
              "      <td id=\"T_785ba_row0_col18\" class=\"data row0 col18\" >0</td>\n",
              "      <td id=\"T_785ba_row0_col19\" class=\"data row0 col19\" >0</td>\n",
              "      <td id=\"T_785ba_row0_col20\" class=\"data row0 col20\" >0</td>\n",
              "    </tr>\n",
              "    <tr>\n",
              "      <th id=\"T_785ba_level0_row1\" class=\"row_heading level0 row1\" >1</th>\n",
              "      <td id=\"T_785ba_row1_col0\" class=\"data row1 col0\" >0</td>\n",
              "      <td id=\"T_785ba_row1_col1\" class=\"data row1 col1\" >0</td>\n",
              "      <td id=\"T_785ba_row1_col2\" class=\"data row1 col2\" >0</td>\n",
              "      <td id=\"T_785ba_row1_col3\" class=\"data row1 col3\" >0</td>\n",
              "      <td id=\"T_785ba_row1_col4\" class=\"data row1 col4\" >0</td>\n",
              "      <td id=\"T_785ba_row1_col5\" class=\"data row1 col5\" >0</td>\n",
              "      <td id=\"T_785ba_row1_col6\" class=\"data row1 col6\" >0</td>\n",
              "      <td id=\"T_785ba_row1_col7\" class=\"data row1 col7\" >0</td>\n",
              "      <td id=\"T_785ba_row1_col8\" class=\"data row1 col8\" >30</td>\n",
              "      <td id=\"T_785ba_row1_col9\" class=\"data row1 col9\" >144</td>\n",
              "      <td id=\"T_785ba_row1_col10\" class=\"data row1 col10\" >173</td>\n",
              "      <td id=\"T_785ba_row1_col11\" class=\"data row1 col11\" >254</td>\n",
              "      <td id=\"T_785ba_row1_col12\" class=\"data row1 col12\" >254</td>\n",
              "      <td id=\"T_785ba_row1_col13\" class=\"data row1 col13\" >254</td>\n",
              "      <td id=\"T_785ba_row1_col14\" class=\"data row1 col14\" >216</td>\n",
              "      <td id=\"T_785ba_row1_col15\" class=\"data row1 col15\" >90</td>\n",
              "      <td id=\"T_785ba_row1_col16\" class=\"data row1 col16\" >0</td>\n",
              "      <td id=\"T_785ba_row1_col17\" class=\"data row1 col17\" >0</td>\n",
              "      <td id=\"T_785ba_row1_col18\" class=\"data row1 col18\" >0</td>\n",
              "      <td id=\"T_785ba_row1_col19\" class=\"data row1 col19\" >0</td>\n",
              "      <td id=\"T_785ba_row1_col20\" class=\"data row1 col20\" >0</td>\n",
              "    </tr>\n",
              "    <tr>\n",
              "      <th id=\"T_785ba_level0_row2\" class=\"row_heading level0 row2\" >2</th>\n",
              "      <td id=\"T_785ba_row2_col0\" class=\"data row2 col0\" >0</td>\n",
              "      <td id=\"T_785ba_row2_col1\" class=\"data row2 col1\" >0</td>\n",
              "      <td id=\"T_785ba_row2_col2\" class=\"data row2 col2\" >0</td>\n",
              "      <td id=\"T_785ba_row2_col3\" class=\"data row2 col3\" >0</td>\n",
              "      <td id=\"T_785ba_row2_col4\" class=\"data row2 col4\" >0</td>\n",
              "      <td id=\"T_785ba_row2_col5\" class=\"data row2 col5\" >0</td>\n",
              "      <td id=\"T_785ba_row2_col6\" class=\"data row2 col6\" >12</td>\n",
              "      <td id=\"T_785ba_row2_col7\" class=\"data row2 col7\" >148</td>\n",
              "      <td id=\"T_785ba_row2_col8\" class=\"data row2 col8\" >244</td>\n",
              "      <td id=\"T_785ba_row2_col9\" class=\"data row2 col9\" >254</td>\n",
              "      <td id=\"T_785ba_row2_col10\" class=\"data row2 col10\" >253</td>\n",
              "      <td id=\"T_785ba_row2_col11\" class=\"data row2 col11\" >253</td>\n",
              "      <td id=\"T_785ba_row2_col12\" class=\"data row2 col12\" >189</td>\n",
              "      <td id=\"T_785ba_row2_col13\" class=\"data row2 col13\" >230</td>\n",
              "      <td id=\"T_785ba_row2_col14\" class=\"data row2 col14\" >253</td>\n",
              "      <td id=\"T_785ba_row2_col15\" class=\"data row2 col15\" >242</td>\n",
              "      <td id=\"T_785ba_row2_col16\" class=\"data row2 col16\" >0</td>\n",
              "      <td id=\"T_785ba_row2_col17\" class=\"data row2 col17\" >0</td>\n",
              "      <td id=\"T_785ba_row2_col18\" class=\"data row2 col18\" >0</td>\n",
              "      <td id=\"T_785ba_row2_col19\" class=\"data row2 col19\" >0</td>\n",
              "      <td id=\"T_785ba_row2_col20\" class=\"data row2 col20\" >0</td>\n",
              "    </tr>\n",
              "    <tr>\n",
              "      <th id=\"T_785ba_level0_row3\" class=\"row_heading level0 row3\" >3</th>\n",
              "      <td id=\"T_785ba_row3_col0\" class=\"data row3 col0\" >0</td>\n",
              "      <td id=\"T_785ba_row3_col1\" class=\"data row3 col1\" >0</td>\n",
              "      <td id=\"T_785ba_row3_col2\" class=\"data row3 col2\" >0</td>\n",
              "      <td id=\"T_785ba_row3_col3\" class=\"data row3 col3\" >0</td>\n",
              "      <td id=\"T_785ba_row3_col4\" class=\"data row3 col4\" >0</td>\n",
              "      <td id=\"T_785ba_row3_col5\" class=\"data row3 col5\" >0</td>\n",
              "      <td id=\"T_785ba_row3_col6\" class=\"data row3 col6\" >136</td>\n",
              "      <td id=\"T_785ba_row3_col7\" class=\"data row3 col7\" >253</td>\n",
              "      <td id=\"T_785ba_row3_col8\" class=\"data row3 col8\" >253</td>\n",
              "      <td id=\"T_785ba_row3_col9\" class=\"data row3 col9\" >254</td>\n",
              "      <td id=\"T_785ba_row3_col10\" class=\"data row3 col10\" >227</td>\n",
              "      <td id=\"T_785ba_row3_col11\" class=\"data row3 col11\" >63</td>\n",
              "      <td id=\"T_785ba_row3_col12\" class=\"data row3 col12\" >2</td>\n",
              "      <td id=\"T_785ba_row3_col13\" class=\"data row3 col13\" >75</td>\n",
              "      <td id=\"T_785ba_row3_col14\" class=\"data row3 col14\" >253</td>\n",
              "      <td id=\"T_785ba_row3_col15\" class=\"data row3 col15\" >242</td>\n",
              "      <td id=\"T_785ba_row3_col16\" class=\"data row3 col16\" >0</td>\n",
              "      <td id=\"T_785ba_row3_col17\" class=\"data row3 col17\" >0</td>\n",
              "      <td id=\"T_785ba_row3_col18\" class=\"data row3 col18\" >0</td>\n",
              "      <td id=\"T_785ba_row3_col19\" class=\"data row3 col19\" >0</td>\n",
              "      <td id=\"T_785ba_row3_col20\" class=\"data row3 col20\" >0</td>\n",
              "    </tr>\n",
              "    <tr>\n",
              "      <th id=\"T_785ba_level0_row4\" class=\"row_heading level0 row4\" >4</th>\n",
              "      <td id=\"T_785ba_row4_col0\" class=\"data row4 col0\" >0</td>\n",
              "      <td id=\"T_785ba_row4_col1\" class=\"data row4 col1\" >0</td>\n",
              "      <td id=\"T_785ba_row4_col2\" class=\"data row4 col2\" >0</td>\n",
              "      <td id=\"T_785ba_row4_col3\" class=\"data row4 col3\" >0</td>\n",
              "      <td id=\"T_785ba_row4_col4\" class=\"data row4 col4\" >0</td>\n",
              "      <td id=\"T_785ba_row4_col5\" class=\"data row4 col5\" >0</td>\n",
              "      <td id=\"T_785ba_row4_col6\" class=\"data row4 col6\" >94</td>\n",
              "      <td id=\"T_785ba_row4_col7\" class=\"data row4 col7\" >231</td>\n",
              "      <td id=\"T_785ba_row4_col8\" class=\"data row4 col8\" >231</td>\n",
              "      <td id=\"T_785ba_row4_col9\" class=\"data row4 col9\" >169</td>\n",
              "      <td id=\"T_785ba_row4_col10\" class=\"data row4 col10\" >41</td>\n",
              "      <td id=\"T_785ba_row4_col11\" class=\"data row4 col11\" >0</td>\n",
              "      <td id=\"T_785ba_row4_col12\" class=\"data row4 col12\" >0</td>\n",
              "      <td id=\"T_785ba_row4_col13\" class=\"data row4 col13\" >114</td>\n",
              "      <td id=\"T_785ba_row4_col14\" class=\"data row4 col14\" >253</td>\n",
              "      <td id=\"T_785ba_row4_col15\" class=\"data row4 col15\" >242</td>\n",
              "      <td id=\"T_785ba_row4_col16\" class=\"data row4 col16\" >0</td>\n",
              "      <td id=\"T_785ba_row4_col17\" class=\"data row4 col17\" >0</td>\n",
              "      <td id=\"T_785ba_row4_col18\" class=\"data row4 col18\" >0</td>\n",
              "      <td id=\"T_785ba_row4_col19\" class=\"data row4 col19\" >0</td>\n",
              "      <td id=\"T_785ba_row4_col20\" class=\"data row4 col20\" >0</td>\n",
              "    </tr>\n",
              "    <tr>\n",
              "      <th id=\"T_785ba_level0_row5\" class=\"row_heading level0 row5\" >5</th>\n",
              "      <td id=\"T_785ba_row5_col0\" class=\"data row5 col0\" >0</td>\n",
              "      <td id=\"T_785ba_row5_col1\" class=\"data row5 col1\" >0</td>\n",
              "      <td id=\"T_785ba_row5_col2\" class=\"data row5 col2\" >0</td>\n",
              "      <td id=\"T_785ba_row5_col3\" class=\"data row5 col3\" >0</td>\n",
              "      <td id=\"T_785ba_row5_col4\" class=\"data row5 col4\" >0</td>\n",
              "      <td id=\"T_785ba_row5_col5\" class=\"data row5 col5\" >0</td>\n",
              "      <td id=\"T_785ba_row5_col6\" class=\"data row5 col6\" >0</td>\n",
              "      <td id=\"T_785ba_row5_col7\" class=\"data row5 col7\" >0</td>\n",
              "      <td id=\"T_785ba_row5_col8\" class=\"data row5 col8\" >0</td>\n",
              "      <td id=\"T_785ba_row5_col9\" class=\"data row5 col9\" >0</td>\n",
              "      <td id=\"T_785ba_row5_col10\" class=\"data row5 col10\" >0</td>\n",
              "      <td id=\"T_785ba_row5_col11\" class=\"data row5 col11\" >0</td>\n",
              "      <td id=\"T_785ba_row5_col12\" class=\"data row5 col12\" >5</td>\n",
              "      <td id=\"T_785ba_row5_col13\" class=\"data row5 col13\" >185</td>\n",
              "      <td id=\"T_785ba_row5_col14\" class=\"data row5 col14\" >253</td>\n",
              "      <td id=\"T_785ba_row5_col15\" class=\"data row5 col15\" >218</td>\n",
              "      <td id=\"T_785ba_row5_col16\" class=\"data row5 col16\" >0</td>\n",
              "      <td id=\"T_785ba_row5_col17\" class=\"data row5 col17\" >0</td>\n",
              "      <td id=\"T_785ba_row5_col18\" class=\"data row5 col18\" >0</td>\n",
              "      <td id=\"T_785ba_row5_col19\" class=\"data row5 col19\" >0</td>\n",
              "      <td id=\"T_785ba_row5_col20\" class=\"data row5 col20\" >0</td>\n",
              "    </tr>\n",
              "    <tr>\n",
              "      <th id=\"T_785ba_level0_row6\" class=\"row_heading level0 row6\" >6</th>\n",
              "      <td id=\"T_785ba_row6_col0\" class=\"data row6 col0\" >0</td>\n",
              "      <td id=\"T_785ba_row6_col1\" class=\"data row6 col1\" >0</td>\n",
              "      <td id=\"T_785ba_row6_col2\" class=\"data row6 col2\" >0</td>\n",
              "      <td id=\"T_785ba_row6_col3\" class=\"data row6 col3\" >0</td>\n",
              "      <td id=\"T_785ba_row6_col4\" class=\"data row6 col4\" >0</td>\n",
              "      <td id=\"T_785ba_row6_col5\" class=\"data row6 col5\" >0</td>\n",
              "      <td id=\"T_785ba_row6_col6\" class=\"data row6 col6\" >0</td>\n",
              "      <td id=\"T_785ba_row6_col7\" class=\"data row6 col7\" >0</td>\n",
              "      <td id=\"T_785ba_row6_col8\" class=\"data row6 col8\" >0</td>\n",
              "      <td id=\"T_785ba_row6_col9\" class=\"data row6 col9\" >0</td>\n",
              "      <td id=\"T_785ba_row6_col10\" class=\"data row6 col10\" >0</td>\n",
              "      <td id=\"T_785ba_row6_col11\" class=\"data row6 col11\" >0</td>\n",
              "      <td id=\"T_785ba_row6_col12\" class=\"data row6 col12\" >196</td>\n",
              "      <td id=\"T_785ba_row6_col13\" class=\"data row6 col13\" >253</td>\n",
              "      <td id=\"T_785ba_row6_col14\" class=\"data row6 col14\" >222</td>\n",
              "      <td id=\"T_785ba_row6_col15\" class=\"data row6 col15\" >86</td>\n",
              "      <td id=\"T_785ba_row6_col16\" class=\"data row6 col16\" >0</td>\n",
              "      <td id=\"T_785ba_row6_col17\" class=\"data row6 col17\" >0</td>\n",
              "      <td id=\"T_785ba_row6_col18\" class=\"data row6 col18\" >0</td>\n",
              "      <td id=\"T_785ba_row6_col19\" class=\"data row6 col19\" >0</td>\n",
              "      <td id=\"T_785ba_row6_col20\" class=\"data row6 col20\" >0</td>\n",
              "    </tr>\n",
              "    <tr>\n",
              "      <th id=\"T_785ba_level0_row7\" class=\"row_heading level0 row7\" >7</th>\n",
              "      <td id=\"T_785ba_row7_col0\" class=\"data row7 col0\" >0</td>\n",
              "      <td id=\"T_785ba_row7_col1\" class=\"data row7 col1\" >0</td>\n",
              "      <td id=\"T_785ba_row7_col2\" class=\"data row7 col2\" >0</td>\n",
              "      <td id=\"T_785ba_row7_col3\" class=\"data row7 col3\" >0</td>\n",
              "      <td id=\"T_785ba_row7_col4\" class=\"data row7 col4\" >0</td>\n",
              "      <td id=\"T_785ba_row7_col5\" class=\"data row7 col5\" >0</td>\n",
              "      <td id=\"T_785ba_row7_col6\" class=\"data row7 col6\" >0</td>\n",
              "      <td id=\"T_785ba_row7_col7\" class=\"data row7 col7\" >0</td>\n",
              "      <td id=\"T_785ba_row7_col8\" class=\"data row7 col8\" >5</td>\n",
              "      <td id=\"T_785ba_row7_col9\" class=\"data row7 col9\" >75</td>\n",
              "      <td id=\"T_785ba_row7_col10\" class=\"data row7 col10\" >122</td>\n",
              "      <td id=\"T_785ba_row7_col11\" class=\"data row7 col11\" >213</td>\n",
              "      <td id=\"T_785ba_row7_col12\" class=\"data row7 col12\" >253</td>\n",
              "      <td id=\"T_785ba_row7_col13\" class=\"data row7 col13\" >253</td>\n",
              "      <td id=\"T_785ba_row7_col14\" class=\"data row7 col14\" >112</td>\n",
              "      <td id=\"T_785ba_row7_col15\" class=\"data row7 col15\" >0</td>\n",
              "      <td id=\"T_785ba_row7_col16\" class=\"data row7 col16\" >0</td>\n",
              "      <td id=\"T_785ba_row7_col17\" class=\"data row7 col17\" >0</td>\n",
              "      <td id=\"T_785ba_row7_col18\" class=\"data row7 col18\" >0</td>\n",
              "      <td id=\"T_785ba_row7_col19\" class=\"data row7 col19\" >0</td>\n",
              "      <td id=\"T_785ba_row7_col20\" class=\"data row7 col20\" >0</td>\n",
              "    </tr>\n",
              "    <tr>\n",
              "      <th id=\"T_785ba_level0_row8\" class=\"row_heading level0 row8\" >8</th>\n",
              "      <td id=\"T_785ba_row8_col0\" class=\"data row8 col0\" >0</td>\n",
              "      <td id=\"T_785ba_row8_col1\" class=\"data row8 col1\" >0</td>\n",
              "      <td id=\"T_785ba_row8_col2\" class=\"data row8 col2\" >0</td>\n",
              "      <td id=\"T_785ba_row8_col3\" class=\"data row8 col3\" >0</td>\n",
              "      <td id=\"T_785ba_row8_col4\" class=\"data row8 col4\" >0</td>\n",
              "      <td id=\"T_785ba_row8_col5\" class=\"data row8 col5\" >0</td>\n",
              "      <td id=\"T_785ba_row8_col6\" class=\"data row8 col6\" >8</td>\n",
              "      <td id=\"T_785ba_row8_col7\" class=\"data row8 col7\" >127</td>\n",
              "      <td id=\"T_785ba_row8_col8\" class=\"data row8 col8\" >198</td>\n",
              "      <td id=\"T_785ba_row8_col9\" class=\"data row8 col9\" >254</td>\n",
              "      <td id=\"T_785ba_row8_col10\" class=\"data row8 col10\" >253</td>\n",
              "      <td id=\"T_785ba_row8_col11\" class=\"data row8 col11\" >253</td>\n",
              "      <td id=\"T_785ba_row8_col12\" class=\"data row8 col12\" >253</td>\n",
              "      <td id=\"T_785ba_row8_col13\" class=\"data row8 col13\" >253</td>\n",
              "      <td id=\"T_785ba_row8_col14\" class=\"data row8 col14\" >74</td>\n",
              "      <td id=\"T_785ba_row8_col15\" class=\"data row8 col15\" >0</td>\n",
              "      <td id=\"T_785ba_row8_col16\" class=\"data row8 col16\" >0</td>\n",
              "      <td id=\"T_785ba_row8_col17\" class=\"data row8 col17\" >0</td>\n",
              "      <td id=\"T_785ba_row8_col18\" class=\"data row8 col18\" >0</td>\n",
              "      <td id=\"T_785ba_row8_col19\" class=\"data row8 col19\" >0</td>\n",
              "      <td id=\"T_785ba_row8_col20\" class=\"data row8 col20\" >0</td>\n",
              "    </tr>\n",
              "    <tr>\n",
              "      <th id=\"T_785ba_level0_row9\" class=\"row_heading level0 row9\" >9</th>\n",
              "      <td id=\"T_785ba_row9_col0\" class=\"data row9 col0\" >0</td>\n",
              "      <td id=\"T_785ba_row9_col1\" class=\"data row9 col1\" >0</td>\n",
              "      <td id=\"T_785ba_row9_col2\" class=\"data row9 col2\" >0</td>\n",
              "      <td id=\"T_785ba_row9_col3\" class=\"data row9 col3\" >0</td>\n",
              "      <td id=\"T_785ba_row9_col4\" class=\"data row9 col4\" >0</td>\n",
              "      <td id=\"T_785ba_row9_col5\" class=\"data row9 col5\" >38</td>\n",
              "      <td id=\"T_785ba_row9_col6\" class=\"data row9 col6\" >156</td>\n",
              "      <td id=\"T_785ba_row9_col7\" class=\"data row9 col7\" >253</td>\n",
              "      <td id=\"T_785ba_row9_col8\" class=\"data row9 col8\" >253</td>\n",
              "      <td id=\"T_785ba_row9_col9\" class=\"data row9 col9\" >255</td>\n",
              "      <td id=\"T_785ba_row9_col10\" class=\"data row9 col10\" >253</td>\n",
              "      <td id=\"T_785ba_row9_col11\" class=\"data row9 col11\" >223</td>\n",
              "      <td id=\"T_785ba_row9_col12\" class=\"data row9 col12\" >183</td>\n",
              "      <td id=\"T_785ba_row9_col13\" class=\"data row9 col13\" >253</td>\n",
              "      <td id=\"T_785ba_row9_col14\" class=\"data row9 col14\" >192</td>\n",
              "      <td id=\"T_785ba_row9_col15\" class=\"data row9 col15\" >7</td>\n",
              "      <td id=\"T_785ba_row9_col16\" class=\"data row9 col16\" >0</td>\n",
              "      <td id=\"T_785ba_row9_col17\" class=\"data row9 col17\" >0</td>\n",
              "      <td id=\"T_785ba_row9_col18\" class=\"data row9 col18\" >0</td>\n",
              "      <td id=\"T_785ba_row9_col19\" class=\"data row9 col19\" >0</td>\n",
              "      <td id=\"T_785ba_row9_col20\" class=\"data row9 col20\" >0</td>\n",
              "    </tr>\n",
              "    <tr>\n",
              "      <th id=\"T_785ba_level0_row10\" class=\"row_heading level0 row10\" >10</th>\n",
              "      <td id=\"T_785ba_row10_col0\" class=\"data row10 col0\" >0</td>\n",
              "      <td id=\"T_785ba_row10_col1\" class=\"data row10 col1\" >0</td>\n",
              "      <td id=\"T_785ba_row10_col2\" class=\"data row10 col2\" >0</td>\n",
              "      <td id=\"T_785ba_row10_col3\" class=\"data row10 col3\" >0</td>\n",
              "      <td id=\"T_785ba_row10_col4\" class=\"data row10 col4\" >0</td>\n",
              "      <td id=\"T_785ba_row10_col5\" class=\"data row10 col5\" >170</td>\n",
              "      <td id=\"T_785ba_row10_col6\" class=\"data row10 col6\" >253</td>\n",
              "      <td id=\"T_785ba_row10_col7\" class=\"data row10 col7\" >253</td>\n",
              "      <td id=\"T_785ba_row10_col8\" class=\"data row10 col8\" >253</td>\n",
              "      <td id=\"T_785ba_row10_col9\" class=\"data row10 col9\" >254</td>\n",
              "      <td id=\"T_785ba_row10_col10\" class=\"data row10 col10\" >147</td>\n",
              "      <td id=\"T_785ba_row10_col11\" class=\"data row10 col11\" >20</td>\n",
              "      <td id=\"T_785ba_row10_col12\" class=\"data row10 col12\" >3</td>\n",
              "      <td id=\"T_785ba_row10_col13\" class=\"data row10 col13\" >177</td>\n",
              "      <td id=\"T_785ba_row10_col14\" class=\"data row10 col14\" >253</td>\n",
              "      <td id=\"T_785ba_row10_col15\" class=\"data row10 col15\" >70</td>\n",
              "      <td id=\"T_785ba_row10_col16\" class=\"data row10 col16\" >0</td>\n",
              "      <td id=\"T_785ba_row10_col17\" class=\"data row10 col17\" >0</td>\n",
              "      <td id=\"T_785ba_row10_col18\" class=\"data row10 col18\" >0</td>\n",
              "      <td id=\"T_785ba_row10_col19\" class=\"data row10 col19\" >0</td>\n",
              "      <td id=\"T_785ba_row10_col20\" class=\"data row10 col20\" >0</td>\n",
              "    </tr>\n",
              "    <tr>\n",
              "      <th id=\"T_785ba_level0_row11\" class=\"row_heading level0 row11\" >11</th>\n",
              "      <td id=\"T_785ba_row11_col0\" class=\"data row11 col0\" >0</td>\n",
              "      <td id=\"T_785ba_row11_col1\" class=\"data row11 col1\" >0</td>\n",
              "      <td id=\"T_785ba_row11_col2\" class=\"data row11 col2\" >0</td>\n",
              "      <td id=\"T_785ba_row11_col3\" class=\"data row11 col3\" >0</td>\n",
              "      <td id=\"T_785ba_row11_col4\" class=\"data row11 col4\" >0</td>\n",
              "      <td id=\"T_785ba_row11_col5\" class=\"data row11 col5\" >219</td>\n",
              "      <td id=\"T_785ba_row11_col6\" class=\"data row11 col6\" >254</td>\n",
              "      <td id=\"T_785ba_row11_col7\" class=\"data row11 col7\" >230</td>\n",
              "      <td id=\"T_785ba_row11_col8\" class=\"data row11 col8\" >173</td>\n",
              "      <td id=\"T_785ba_row11_col9\" class=\"data row11 col9\" >49</td>\n",
              "      <td id=\"T_785ba_row11_col10\" class=\"data row11 col10\" >0</td>\n",
              "      <td id=\"T_785ba_row11_col11\" class=\"data row11 col11\" >0</td>\n",
              "      <td id=\"T_785ba_row11_col12\" class=\"data row11 col12\" >0</td>\n",
              "      <td id=\"T_785ba_row11_col13\" class=\"data row11 col13\" >167</td>\n",
              "      <td id=\"T_785ba_row11_col14\" class=\"data row11 col14\" >254</td>\n",
              "      <td id=\"T_785ba_row11_col15\" class=\"data row11 col15\" >132</td>\n",
              "      <td id=\"T_785ba_row11_col16\" class=\"data row11 col16\" >0</td>\n",
              "      <td id=\"T_785ba_row11_col17\" class=\"data row11 col17\" >0</td>\n",
              "      <td id=\"T_785ba_row11_col18\" class=\"data row11 col18\" >0</td>\n",
              "      <td id=\"T_785ba_row11_col19\" class=\"data row11 col19\" >0</td>\n",
              "      <td id=\"T_785ba_row11_col20\" class=\"data row11 col20\" >0</td>\n",
              "    </tr>\n",
              "    <tr>\n",
              "      <th id=\"T_785ba_level0_row12\" class=\"row_heading level0 row12\" >12</th>\n",
              "      <td id=\"T_785ba_row12_col0\" class=\"data row12 col0\" >0</td>\n",
              "      <td id=\"T_785ba_row12_col1\" class=\"data row12 col1\" >0</td>\n",
              "      <td id=\"T_785ba_row12_col2\" class=\"data row12 col2\" >0</td>\n",
              "      <td id=\"T_785ba_row12_col3\" class=\"data row12 col3\" >0</td>\n",
              "      <td id=\"T_785ba_row12_col4\" class=\"data row12 col4\" >0</td>\n",
              "      <td id=\"T_785ba_row12_col5\" class=\"data row12 col5\" >37</td>\n",
              "      <td id=\"T_785ba_row12_col6\" class=\"data row12 col6\" >77</td>\n",
              "      <td id=\"T_785ba_row12_col7\" class=\"data row12 col7\" >20</td>\n",
              "      <td id=\"T_785ba_row12_col8\" class=\"data row12 col8\" >0</td>\n",
              "      <td id=\"T_785ba_row12_col9\" class=\"data row12 col9\" >0</td>\n",
              "      <td id=\"T_785ba_row12_col10\" class=\"data row12 col10\" >0</td>\n",
              "      <td id=\"T_785ba_row12_col11\" class=\"data row12 col11\" >0</td>\n",
              "      <td id=\"T_785ba_row12_col12\" class=\"data row12 col12\" >0</td>\n",
              "      <td id=\"T_785ba_row12_col13\" class=\"data row12 col13\" >166</td>\n",
              "      <td id=\"T_785ba_row12_col14\" class=\"data row12 col14\" >253</td>\n",
              "      <td id=\"T_785ba_row12_col15\" class=\"data row12 col15\" >131</td>\n",
              "      <td id=\"T_785ba_row12_col16\" class=\"data row12 col16\" >0</td>\n",
              "      <td id=\"T_785ba_row12_col17\" class=\"data row12 col17\" >0</td>\n",
              "      <td id=\"T_785ba_row12_col18\" class=\"data row12 col18\" >0</td>\n",
              "      <td id=\"T_785ba_row12_col19\" class=\"data row12 col19\" >0</td>\n",
              "      <td id=\"T_785ba_row12_col20\" class=\"data row12 col20\" >0</td>\n",
              "    </tr>\n",
              "    <tr>\n",
              "      <th id=\"T_785ba_level0_row13\" class=\"row_heading level0 row13\" >13</th>\n",
              "      <td id=\"T_785ba_row13_col0\" class=\"data row13 col0\" >0</td>\n",
              "      <td id=\"T_785ba_row13_col1\" class=\"data row13 col1\" >0</td>\n",
              "      <td id=\"T_785ba_row13_col2\" class=\"data row13 col2\" >0</td>\n",
              "      <td id=\"T_785ba_row13_col3\" class=\"data row13 col3\" >0</td>\n",
              "      <td id=\"T_785ba_row13_col4\" class=\"data row13 col4\" >0</td>\n",
              "      <td id=\"T_785ba_row13_col5\" class=\"data row13 col5\" >0</td>\n",
              "      <td id=\"T_785ba_row13_col6\" class=\"data row13 col6\" >0</td>\n",
              "      <td id=\"T_785ba_row13_col7\" class=\"data row13 col7\" >0</td>\n",
              "      <td id=\"T_785ba_row13_col8\" class=\"data row13 col8\" >0</td>\n",
              "      <td id=\"T_785ba_row13_col9\" class=\"data row13 col9\" >0</td>\n",
              "      <td id=\"T_785ba_row13_col10\" class=\"data row13 col10\" >0</td>\n",
              "      <td id=\"T_785ba_row13_col11\" class=\"data row13 col11\" >0</td>\n",
              "      <td id=\"T_785ba_row13_col12\" class=\"data row13 col12\" >0</td>\n",
              "      <td id=\"T_785ba_row13_col13\" class=\"data row13 col13\" >166</td>\n",
              "      <td id=\"T_785ba_row13_col14\" class=\"data row13 col14\" >253</td>\n",
              "      <td id=\"T_785ba_row13_col15\" class=\"data row13 col15\" >131</td>\n",
              "      <td id=\"T_785ba_row13_col16\" class=\"data row13 col16\" >0</td>\n",
              "      <td id=\"T_785ba_row13_col17\" class=\"data row13 col17\" >0</td>\n",
              "      <td id=\"T_785ba_row13_col18\" class=\"data row13 col18\" >0</td>\n",
              "      <td id=\"T_785ba_row13_col19\" class=\"data row13 col19\" >0</td>\n",
              "      <td id=\"T_785ba_row13_col20\" class=\"data row13 col20\" >0</td>\n",
              "    </tr>\n",
              "    <tr>\n",
              "      <th id=\"T_785ba_level0_row14\" class=\"row_heading level0 row14\" >14</th>\n",
              "      <td id=\"T_785ba_row14_col0\" class=\"data row14 col0\" >0</td>\n",
              "      <td id=\"T_785ba_row14_col1\" class=\"data row14 col1\" >0</td>\n",
              "      <td id=\"T_785ba_row14_col2\" class=\"data row14 col2\" >0</td>\n",
              "      <td id=\"T_785ba_row14_col3\" class=\"data row14 col3\" >0</td>\n",
              "      <td id=\"T_785ba_row14_col4\" class=\"data row14 col4\" >0</td>\n",
              "      <td id=\"T_785ba_row14_col5\" class=\"data row14 col5\" >0</td>\n",
              "      <td id=\"T_785ba_row14_col6\" class=\"data row14 col6\" >0</td>\n",
              "      <td id=\"T_785ba_row14_col7\" class=\"data row14 col7\" >0</td>\n",
              "      <td id=\"T_785ba_row14_col8\" class=\"data row14 col8\" >0</td>\n",
              "      <td id=\"T_785ba_row14_col9\" class=\"data row14 col9\" >0</td>\n",
              "      <td id=\"T_785ba_row14_col10\" class=\"data row14 col10\" >0</td>\n",
              "      <td id=\"T_785ba_row14_col11\" class=\"data row14 col11\" >0</td>\n",
              "      <td id=\"T_785ba_row14_col12\" class=\"data row14 col12\" >22</td>\n",
              "      <td id=\"T_785ba_row14_col13\" class=\"data row14 col13\" >250</td>\n",
              "      <td id=\"T_785ba_row14_col14\" class=\"data row14 col14\" >253</td>\n",
              "      <td id=\"T_785ba_row14_col15\" class=\"data row14 col15\" >123</td>\n",
              "      <td id=\"T_785ba_row14_col16\" class=\"data row14 col16\" >0</td>\n",
              "      <td id=\"T_785ba_row14_col17\" class=\"data row14 col17\" >0</td>\n",
              "      <td id=\"T_785ba_row14_col18\" class=\"data row14 col18\" >0</td>\n",
              "      <td id=\"T_785ba_row14_col19\" class=\"data row14 col19\" >0</td>\n",
              "      <td id=\"T_785ba_row14_col20\" class=\"data row14 col20\" >0</td>\n",
              "    </tr>\n",
              "    <tr>\n",
              "      <th id=\"T_785ba_level0_row15\" class=\"row_heading level0 row15\" >15</th>\n",
              "      <td id=\"T_785ba_row15_col0\" class=\"data row15 col0\" >0</td>\n",
              "      <td id=\"T_785ba_row15_col1\" class=\"data row15 col1\" >0</td>\n",
              "      <td id=\"T_785ba_row15_col2\" class=\"data row15 col2\" >5</td>\n",
              "      <td id=\"T_785ba_row15_col3\" class=\"data row15 col3\" >56</td>\n",
              "      <td id=\"T_785ba_row15_col4\" class=\"data row15 col4\" >56</td>\n",
              "      <td id=\"T_785ba_row15_col5\" class=\"data row15 col5\" >5</td>\n",
              "      <td id=\"T_785ba_row15_col6\" class=\"data row15 col6\" >0</td>\n",
              "      <td id=\"T_785ba_row15_col7\" class=\"data row15 col7\" >0</td>\n",
              "      <td id=\"T_785ba_row15_col8\" class=\"data row15 col8\" >0</td>\n",
              "      <td id=\"T_785ba_row15_col9\" class=\"data row15 col9\" >0</td>\n",
              "      <td id=\"T_785ba_row15_col10\" class=\"data row15 col10\" >0</td>\n",
              "      <td id=\"T_785ba_row15_col11\" class=\"data row15 col11\" >0</td>\n",
              "      <td id=\"T_785ba_row15_col12\" class=\"data row15 col12\" >95</td>\n",
              "      <td id=\"T_785ba_row15_col13\" class=\"data row15 col13\" >253</td>\n",
              "      <td id=\"T_785ba_row15_col14\" class=\"data row15 col14\" >234</td>\n",
              "      <td id=\"T_785ba_row15_col15\" class=\"data row15 col15\" >17</td>\n",
              "      <td id=\"T_785ba_row15_col16\" class=\"data row15 col16\" >0</td>\n",
              "      <td id=\"T_785ba_row15_col17\" class=\"data row15 col17\" >0</td>\n",
              "      <td id=\"T_785ba_row15_col18\" class=\"data row15 col18\" >0</td>\n",
              "      <td id=\"T_785ba_row15_col19\" class=\"data row15 col19\" >0</td>\n",
              "      <td id=\"T_785ba_row15_col20\" class=\"data row15 col20\" >0</td>\n",
              "    </tr>\n",
              "    <tr>\n",
              "      <th id=\"T_785ba_level0_row16\" class=\"row_heading level0 row16\" >16</th>\n",
              "      <td id=\"T_785ba_row16_col0\" class=\"data row16 col0\" >0</td>\n",
              "      <td id=\"T_785ba_row16_col1\" class=\"data row16 col1\" >0</td>\n",
              "      <td id=\"T_785ba_row16_col2\" class=\"data row16 col2\" >61</td>\n",
              "      <td id=\"T_785ba_row16_col3\" class=\"data row16 col3\" >253</td>\n",
              "      <td id=\"T_785ba_row16_col4\" class=\"data row16 col4\" >222</td>\n",
              "      <td id=\"T_785ba_row16_col5\" class=\"data row16 col5\" >14</td>\n",
              "      <td id=\"T_785ba_row16_col6\" class=\"data row16 col6\" >0</td>\n",
              "      <td id=\"T_785ba_row16_col7\" class=\"data row16 col7\" >0</td>\n",
              "      <td id=\"T_785ba_row16_col8\" class=\"data row16 col8\" >0</td>\n",
              "      <td id=\"T_785ba_row16_col9\" class=\"data row16 col9\" >0</td>\n",
              "      <td id=\"T_785ba_row16_col10\" class=\"data row16 col10\" >0</td>\n",
              "      <td id=\"T_785ba_row16_col11\" class=\"data row16 col11\" >0</td>\n",
              "      <td id=\"T_785ba_row16_col12\" class=\"data row16 col12\" >220</td>\n",
              "      <td id=\"T_785ba_row16_col13\" class=\"data row16 col13\" >253</td>\n",
              "      <td id=\"T_785ba_row16_col14\" class=\"data row16 col14\" >165</td>\n",
              "      <td id=\"T_785ba_row16_col15\" class=\"data row16 col15\" >0</td>\n",
              "      <td id=\"T_785ba_row16_col16\" class=\"data row16 col16\" >0</td>\n",
              "      <td id=\"T_785ba_row16_col17\" class=\"data row16 col17\" >0</td>\n",
              "      <td id=\"T_785ba_row16_col18\" class=\"data row16 col18\" >0</td>\n",
              "      <td id=\"T_785ba_row16_col19\" class=\"data row16 col19\" >0</td>\n",
              "      <td id=\"T_785ba_row16_col20\" class=\"data row16 col20\" >0</td>\n",
              "    </tr>\n",
              "    <tr>\n",
              "      <th id=\"T_785ba_level0_row17\" class=\"row_heading level0 row17\" >17</th>\n",
              "      <td id=\"T_785ba_row17_col0\" class=\"data row17 col0\" >0</td>\n",
              "      <td id=\"T_785ba_row17_col1\" class=\"data row17 col1\" >0</td>\n",
              "      <td id=\"T_785ba_row17_col2\" class=\"data row17 col2\" >234</td>\n",
              "      <td id=\"T_785ba_row17_col3\" class=\"data row17 col3\" >253</td>\n",
              "      <td id=\"T_785ba_row17_col4\" class=\"data row17 col4\" >117</td>\n",
              "      <td id=\"T_785ba_row17_col5\" class=\"data row17 col5\" >0</td>\n",
              "      <td id=\"T_785ba_row17_col6\" class=\"data row17 col6\" >0</td>\n",
              "      <td id=\"T_785ba_row17_col7\" class=\"data row17 col7\" >0</td>\n",
              "      <td id=\"T_785ba_row17_col8\" class=\"data row17 col8\" >0</td>\n",
              "      <td id=\"T_785ba_row17_col9\" class=\"data row17 col9\" >0</td>\n",
              "      <td id=\"T_785ba_row17_col10\" class=\"data row17 col10\" >3</td>\n",
              "      <td id=\"T_785ba_row17_col11\" class=\"data row17 col11\" >99</td>\n",
              "      <td id=\"T_785ba_row17_col12\" class=\"data row17 col12\" >253</td>\n",
              "      <td id=\"T_785ba_row17_col13\" class=\"data row17 col13\" >251</td>\n",
              "      <td id=\"T_785ba_row17_col14\" class=\"data row17 col14\" >62</td>\n",
              "      <td id=\"T_785ba_row17_col15\" class=\"data row17 col15\" >0</td>\n",
              "      <td id=\"T_785ba_row17_col16\" class=\"data row17 col16\" >0</td>\n",
              "      <td id=\"T_785ba_row17_col17\" class=\"data row17 col17\" >0</td>\n",
              "      <td id=\"T_785ba_row17_col18\" class=\"data row17 col18\" >0</td>\n",
              "      <td id=\"T_785ba_row17_col19\" class=\"data row17 col19\" >0</td>\n",
              "      <td id=\"T_785ba_row17_col20\" class=\"data row17 col20\" >0</td>\n",
              "    </tr>\n",
              "    <tr>\n",
              "      <th id=\"T_785ba_level0_row18\" class=\"row_heading level0 row18\" >18</th>\n",
              "      <td id=\"T_785ba_row18_col0\" class=\"data row18 col0\" >0</td>\n",
              "      <td id=\"T_785ba_row18_col1\" class=\"data row18 col1\" >0</td>\n",
              "      <td id=\"T_785ba_row18_col2\" class=\"data row18 col2\" >224</td>\n",
              "      <td id=\"T_785ba_row18_col3\" class=\"data row18 col3\" >253</td>\n",
              "      <td id=\"T_785ba_row18_col4\" class=\"data row18 col4\" >219</td>\n",
              "      <td id=\"T_785ba_row18_col5\" class=\"data row18 col5\" >102</td>\n",
              "      <td id=\"T_785ba_row18_col6\" class=\"data row18 col6\" >45</td>\n",
              "      <td id=\"T_785ba_row18_col7\" class=\"data row18 col7\" >31</td>\n",
              "      <td id=\"T_785ba_row18_col8\" class=\"data row18 col8\" >0</td>\n",
              "      <td id=\"T_785ba_row18_col9\" class=\"data row18 col9\" >26</td>\n",
              "      <td id=\"T_785ba_row18_col10\" class=\"data row18 col10\" >100</td>\n",
              "      <td id=\"T_785ba_row18_col11\" class=\"data row18 col11\" >253</td>\n",
              "      <td id=\"T_785ba_row18_col12\" class=\"data row18 col12\" >250</td>\n",
              "      <td id=\"T_785ba_row18_col13\" class=\"data row18 col13\" >116</td>\n",
              "      <td id=\"T_785ba_row18_col14\" class=\"data row18 col14\" >0</td>\n",
              "      <td id=\"T_785ba_row18_col15\" class=\"data row18 col15\" >0</td>\n",
              "      <td id=\"T_785ba_row18_col16\" class=\"data row18 col16\" >0</td>\n",
              "      <td id=\"T_785ba_row18_col17\" class=\"data row18 col17\" >0</td>\n",
              "      <td id=\"T_785ba_row18_col18\" class=\"data row18 col18\" >0</td>\n",
              "      <td id=\"T_785ba_row18_col19\" class=\"data row18 col19\" >0</td>\n",
              "      <td id=\"T_785ba_row18_col20\" class=\"data row18 col20\" >0</td>\n",
              "    </tr>\n",
              "    <tr>\n",
              "      <th id=\"T_785ba_level0_row19\" class=\"row_heading level0 row19\" >19</th>\n",
              "      <td id=\"T_785ba_row19_col0\" class=\"data row19 col0\" >0</td>\n",
              "      <td id=\"T_785ba_row19_col1\" class=\"data row19 col1\" >0</td>\n",
              "      <td id=\"T_785ba_row19_col2\" class=\"data row19 col2\" >44</td>\n",
              "      <td id=\"T_785ba_row19_col3\" class=\"data row19 col3\" >227</td>\n",
              "      <td id=\"T_785ba_row19_col4\" class=\"data row19 col4\" >253</td>\n",
              "      <td id=\"T_785ba_row19_col5\" class=\"data row19 col5\" >253</td>\n",
              "      <td id=\"T_785ba_row19_col6\" class=\"data row19 col6\" >253</td>\n",
              "      <td id=\"T_785ba_row19_col7\" class=\"data row19 col7\" >233</td>\n",
              "      <td id=\"T_785ba_row19_col8\" class=\"data row19 col8\" >188</td>\n",
              "      <td id=\"T_785ba_row19_col9\" class=\"data row19 col9\" >226</td>\n",
              "      <td id=\"T_785ba_row19_col10\" class=\"data row19 col10\" >253</td>\n",
              "      <td id=\"T_785ba_row19_col11\" class=\"data row19 col11\" >253</td>\n",
              "      <td id=\"T_785ba_row19_col12\" class=\"data row19 col12\" >197</td>\n",
              "      <td id=\"T_785ba_row19_col13\" class=\"data row19 col13\" >0</td>\n",
              "      <td id=\"T_785ba_row19_col14\" class=\"data row19 col14\" >0</td>\n",
              "      <td id=\"T_785ba_row19_col15\" class=\"data row19 col15\" >0</td>\n",
              "      <td id=\"T_785ba_row19_col16\" class=\"data row19 col16\" >0</td>\n",
              "      <td id=\"T_785ba_row19_col17\" class=\"data row19 col17\" >0</td>\n",
              "      <td id=\"T_785ba_row19_col18\" class=\"data row19 col18\" >0</td>\n",
              "      <td id=\"T_785ba_row19_col19\" class=\"data row19 col19\" >0</td>\n",
              "      <td id=\"T_785ba_row19_col20\" class=\"data row19 col20\" >0</td>\n",
              "    </tr>\n",
              "    <tr>\n",
              "      <th id=\"T_785ba_level0_row20\" class=\"row_heading level0 row20\" >20</th>\n",
              "      <td id=\"T_785ba_row20_col0\" class=\"data row20 col0\" >0</td>\n",
              "      <td id=\"T_785ba_row20_col1\" class=\"data row20 col1\" >0</td>\n",
              "      <td id=\"T_785ba_row20_col2\" class=\"data row20 col2\" >0</td>\n",
              "      <td id=\"T_785ba_row20_col3\" class=\"data row20 col3\" >22</td>\n",
              "      <td id=\"T_785ba_row20_col4\" class=\"data row20 col4\" >33</td>\n",
              "      <td id=\"T_785ba_row20_col5\" class=\"data row20 col5\" >133</td>\n",
              "      <td id=\"T_785ba_row20_col6\" class=\"data row20 col6\" >191</td>\n",
              "      <td id=\"T_785ba_row20_col7\" class=\"data row20 col7\" >176</td>\n",
              "      <td id=\"T_785ba_row20_col8\" class=\"data row20 col8\" >253</td>\n",
              "      <td id=\"T_785ba_row20_col9\" class=\"data row20 col9\" >254</td>\n",
              "      <td id=\"T_785ba_row20_col10\" class=\"data row20 col10\" >224</td>\n",
              "      <td id=\"T_785ba_row20_col11\" class=\"data row20 col11\" >143</td>\n",
              "      <td id=\"T_785ba_row20_col12\" class=\"data row20 col12\" >20</td>\n",
              "      <td id=\"T_785ba_row20_col13\" class=\"data row20 col13\" >0</td>\n",
              "      <td id=\"T_785ba_row20_col14\" class=\"data row20 col14\" >0</td>\n",
              "      <td id=\"T_785ba_row20_col15\" class=\"data row20 col15\" >0</td>\n",
              "      <td id=\"T_785ba_row20_col16\" class=\"data row20 col16\" >0</td>\n",
              "      <td id=\"T_785ba_row20_col17\" class=\"data row20 col17\" >0</td>\n",
              "      <td id=\"T_785ba_row20_col18\" class=\"data row20 col18\" >0</td>\n",
              "      <td id=\"T_785ba_row20_col19\" class=\"data row20 col19\" >0</td>\n",
              "      <td id=\"T_785ba_row20_col20\" class=\"data row20 col20\" >0</td>\n",
              "    </tr>\n",
              "  </tbody>\n",
              "</table>\n"
            ]
          },
          "metadata": {},
          "execution_count": 64
        }
      ]
    },
    {
      "cell_type": "code",
      "source": [
        "three_tensors = [tensor(Image.open(i)) for i in threes]\n",
        "seven_tensors = [tensor(Image.open(i)) for i in sevens]"
      ],
      "metadata": {
        "id": "5DEZIRzhchSN"
      },
      "execution_count": 65,
      "outputs": []
    },
    {
      "cell_type": "code",
      "source": [
        "show_image(three_tensors[4])"
      ],
      "metadata": {
        "colab": {
          "base_uri": "https://localhost:8080/",
          "height": 132
        },
        "id": "FNTrILdsecRm",
        "outputId": "c7667a76-6f5b-4ce5-b195-62a74cf8e224"
      },
      "execution_count": 66,
      "outputs": [
        {
          "output_type": "execute_result",
          "data": {
            "text/plain": [
              "<Axes: >"
            ]
          },
          "metadata": {},
          "execution_count": 66
        },
        {
          "output_type": "display_data",
          "data": {
            "text/plain": [
              "<Figure size 100x100 with 1 Axes>"
            ],
            "image/png": "[encoded data removed]"
          },
          "metadata": {}
        }
      ]
    },
    {
      "cell_type": "code",
      "source": [
        "## Ma'lumotlarni stacklash va ularni 1 a va 0 lar oralig'iga olib kelish.\n",
        "\n",
        "stacked_thress = torch.stack(three_tensors).float()/255\n",
        "stacked_sevens = torch.stack(seven_tensors).float()/255"
      ],
      "metadata": {
        "id": "Se71ZIHtemY4"
      },
      "execution_count": 67,
      "outputs": []
    },
    {
      "cell_type": "code",
      "source": [
        "stacked_thress.shape"
      ],
      "metadata": {
        "colab": {
          "base_uri": "https://localhost:8080/"
        },
        "id": "lSjEzkKIf7fm",
        "outputId": "1aea1e9d-d315-4333-d2dd-bbd0a3915411"
      },
      "execution_count": 68,
      "outputs": [
        {
          "output_type": "execute_result",
          "data": {
            "text/plain": [
              "torch.Size([6131, 28, 28])"
            ]
          },
          "metadata": {},
          "execution_count": 68
        }
      ]
    },
    {
      "cell_type": "code",
      "source": [
        "mean3 = stacked_thress.mean(0)"
      ],
      "metadata": {
        "id": "xRgRR4Q4f9Xi"
      },
      "execution_count": 69,
      "outputs": []
    },
    {
      "cell_type": "code",
      "source": [
        "show_image(mean3)"
      ],
      "metadata": {
        "colab": {
          "base_uri": "https://localhost:8080/",
          "height": 132
        },
        "id": "-IxoGtgCgc3D",
        "outputId": "86e6429d-5c1f-4191-e0e1-bc536ee4cb54"
      },
      "execution_count": 70,
      "outputs": [
        {
          "output_type": "execute_result",
          "data": {
            "text/plain": [
              "<Axes: >"
            ]
          },
          "metadata": {},
          "execution_count": 70
        },
        {
          "output_type": "display_data",
          "data": {
            "text/plain": [
              "<Figure size 100x100 with 1 Axes>"
            ],
            "image/png": "[encoded data removed]"
          },
          "metadata": {}
        }
      ]
    },
    {
      "cell_type": "code",
      "source": [
        "mean7 = stacked_sevens.mean(0)"
      ],
      "metadata": {
        "id": "_NwAS-iagfRJ"
      },
      "execution_count": 71,
      "outputs": []
    },
    {
      "cell_type": "code",
      "source": [
        "show_image(mean7)"
      ],
      "metadata": {
        "colab": {
          "base_uri": "https://localhost:8080/",
          "height": 132
        },
        "id": "lMRZivUwgwPx",
        "outputId": "2920d9a5-2302-4347-90db-3ef5bbaeb866"
      },
      "execution_count": null,
      "outputs": [
        {
          "output_type": "execute_result",
          "data": {
            "text/plain": [
              "<Axes: >"
            ]
          },
          "metadata": {},
          "execution_count": 25
        },
        {
          "output_type": "display_data",
          "data": {
            "text/plain": [
              "<Figure size 100x100 with 1 Axes>"
            ],
            "image/png": "[encoded data removed]"
          },
          "metadata": {}
        }
      ]
    },
    {
      "cell_type": "code",
      "source": [
        "s_3 = stacked_thress[5]\n",
        "show_image(s_3)"
      ],
      "metadata": {
        "colab": {
          "base_uri": "https://localhost:8080/",
          "height": 132
        },
        "id": "6FmYfBnQhpGA",
        "outputId": "ac176b26-ff34-47a5-e67c-e63025ac4ea5"
      },
      "execution_count": 72,
      "outputs": [
        {
          "output_type": "execute_result",
          "data": {
            "text/plain": [
              "<Axes: >"
            ]
          },
          "metadata": {},
          "execution_count": 72
        },
        {
          "output_type": "display_data",
          "data": {
            "text/plain": [
              "<Figure size 100x100 with 1 Axes>"
            ],
            "image/png": "[encoded data removed]"
          },
          "metadata": {}
        }
      ]
    },
    {
      "cell_type": "code",
      "source": [
        "valid_3_tensor = torch.stack([tensor(Image.open(i)) for i in (path/'valid'/'3').ls()])\n",
        "valid_3_tensor = valid_3_tensor.float() / 255\n",
        "\n",
        "\n",
        "valid_7_tensor = torch.stack([tensor(Image.open(i)) for i in (path/'valid'/'7').ls()])\n",
        "valid_7_tensor = valid_7_tensor.float() / 255"
      ],
      "metadata": {
        "id": "yu36RRMIjSDe"
      },
      "execution_count": 73,
      "outputs": []
    },
    {
      "cell_type": "code",
      "source": [
        "valid_7_tensor.shape\n"
      ],
      "metadata": {
        "id": "LnMD42JejR0G",
        "colab": {
          "base_uri": "https://localhost:8080/"
        },
        "outputId": "06d64d26-f248-4a3c-a89f-eb99ff57147e"
      },
      "execution_count": 74,
      "outputs": [
        {
          "output_type": "execute_result",
          "data": {
            "text/plain": [
              "torch.Size([1028, 28, 28])"
            ]
          },
          "metadata": {},
          "execution_count": 74
        }
      ]
    },
    {
      "cell_type": "code",
      "source": [
        "## MAE xatolik funksiyasi\n",
        "\n",
        "def mae(a, b):\n",
        "  return(a - b).abs().mean((-1, -2))\n",
        "\n",
        "mae(s_3, mean3)"
      ],
      "metadata": {
        "colab": {
          "base_uri": "https://localhost:8080/"
        },
        "id": "i8s3XocRluyH",
        "outputId": "335549c5-2608-491e-ffba-fe342ae429a3"
      },
      "execution_count": 75,
      "outputs": [
        {
          "output_type": "execute_result",
          "data": {
            "text/plain": [
              "tensor(0.1700)"
            ]
          },
          "metadata": {},
          "execution_count": 75
        }
      ]
    },
    {
      "cell_type": "code",
      "source": [
        "valid_3_tensor = mae(valid_3_tensor, mean3)\n",
        "valid_7_tensor = mae(valid_7_tensor, mean7)\n",
        "\n",
        "\n",
        "valid_3_tensor, valid_7_tensor"
      ],
      "metadata": {
        "colab": {
          "base_uri": "https://localhost:8080/"
        },
        "id": "83DI6TkanHSq",
        "outputId": "5287c78a-f00d-40e7-f2fd-16dcf788cccf"
      },
      "execution_count": 76,
      "outputs": [
        {
          "output_type": "execute_result",
          "data": {
            "text/plain": [
              "(tensor([0.1419, 0.1320, 0.1102,  ..., 0.1181, 0.1430, 0.1188]),\n",
              " tensor([0.1064, 0.1264, 0.0895,  ..., 0.0911, 0.1239, 0.1061]))"
            ]
          },
          "metadata": {},
          "execution_count": 76
        }
      ]
    },
    {
      "cell_type": "code",
      "source": [
        "### NATIJA QAYTARUVCHI FUNCTION\n",
        "\n",
        "def is_3(x):\n",
        "  return mae(x, mean3) < mae(x, mean7)\n",
        "\n",
        "def is_7(x):\n",
        "  return mae(x, mean7) < mae(x, mean3)\n",
        "\n",
        "\n",
        "\n",
        "is_3(s_3).float()"
      ],
      "metadata": {
        "colab": {
          "base_uri": "https://localhost:8080/"
        },
        "id": "Js2t2vh9oT0O",
        "outputId": "d38b9231-d589-4ca5-9969-5f2c494262a4"
      },
      "execution_count": 81,
      "outputs": [
        {
          "output_type": "execute_result",
          "data": {
            "text/plain": [
              "tensor(1.)"
            ]
          },
          "metadata": {},
          "execution_count": 81
        }
      ]
    }
  ]
}